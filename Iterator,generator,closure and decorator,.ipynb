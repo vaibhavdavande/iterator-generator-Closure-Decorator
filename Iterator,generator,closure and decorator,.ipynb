{
 "cells": [
  {
   "cell_type": "code",
   "execution_count": 1,
   "metadata": {},
   "outputs": [
    {
     "name": "stdout",
     "output_type": "stream",
     "text": [
      "1\n",
      "2\n",
      "3\n",
      "4\n"
     ]
    }
   ],
   "source": [
    "l = [1,2,3,4]\n",
    "for i in l:\n",
    "    print(i)"
   ]
  },
  {
   "cell_type": "code",
   "execution_count": 3,
   "metadata": {},
   "outputs": [
    {
     "data": {
      "text/plain": [
       "<list_iterator at 0x198db9d7a88>"
      ]
     },
     "execution_count": 3,
     "metadata": {},
     "output_type": "execute_result"
    }
   ],
   "source": [
    "iterator = iter(l)\n",
    "iterator"
   ]
  },
  {
   "cell_type": "code",
   "execution_count": 4,
   "metadata": {},
   "outputs": [
    {
     "name": "stdout",
     "output_type": "stream",
     "text": [
      "1\n",
      "2\n",
      "3\n",
      "4\n"
     ]
    }
   ],
   "source": [
    "for i in iterator:\n",
    "    print(i)"
   ]
  },
  {
   "cell_type": "code",
   "execution_count": 9,
   "metadata": {},
   "outputs": [],
   "source": [
    "def squar(n):\n",
    "    for i in range(n):\n",
    "        return i**2\n",
    "a = squar(3)"
   ]
  },
  {
   "cell_type": "code",
   "execution_count": 10,
   "metadata": {},
   "outputs": [
    {
     "data": {
      "text/plain": [
       "0"
      ]
     },
     "execution_count": 10,
     "metadata": {},
     "output_type": "execute_result"
    }
   ],
   "source": [
    "a"
   ]
  },
  {
   "cell_type": "code",
   "execution_count": 11,
   "metadata": {},
   "outputs": [],
   "source": [
    "# generator is basically its function along with keyword yield"
   ]
  },
  {
   "cell_type": "code",
   "execution_count": 19,
   "metadata": {},
   "outputs": [],
   "source": [
    "def squar(n):\n",
    "    for i in range(n):\n",
    "        yield i**2\n",
    "a = squar(3)"
   ]
  },
  {
   "cell_type": "code",
   "execution_count": 20,
   "metadata": {},
   "outputs": [
    {
     "data": {
      "text/plain": [
       "<generator object squar at 0x00000198DCA9C848>"
      ]
     },
     "execution_count": 20,
     "metadata": {},
     "output_type": "execute_result"
    }
   ],
   "source": [
    "a # here a is now a generator object"
   ]
  },
  {
   "cell_type": "code",
   "execution_count": 21,
   "metadata": {},
   "outputs": [
    {
     "name": "stdout",
     "output_type": "stream",
     "text": [
      "0\n",
      "1\n",
      "4\n"
     ]
    }
   ],
   "source": [
    "#So generally generator is nothing but an iterator along with keyword yield\n",
    "for i in a:\n",
    "    print(i)"
   ]
  },
  {
   "cell_type": "code",
   "execution_count": 22,
   "metadata": {},
   "outputs": [],
   "source": [
    "# Closure \n",
    "def main_vd():\n",
    "    msg =  'Vaibhav'\n",
    "    def sub_fun():\n",
    "        print('we are in sub_func')\n",
    "        print(msg)\n",
    "    return sub_fun()"
   ]
  },
  {
   "cell_type": "code",
   "execution_count": 23,
   "metadata": {},
   "outputs": [
    {
     "name": "stdout",
     "output_type": "stream",
     "text": [
      "we are in sub_func\n",
      "Vaibhav\n"
     ]
    }
   ],
   "source": [
    "a = main_vd()"
   ]
  },
  {
   "cell_type": "code",
   "execution_count": 26,
   "metadata": {},
   "outputs": [],
   "source": [
    "#Closure is we can pass or use variables of parent fuctions into the child fuction\n",
    "def main_vd(msg1):\n",
    "    msg =  'Vaibhav'\n",
    "    def sub_fun():\n",
    "        print('we are in sub_func')\n",
    "        print(msg)\n",
    "        print(msg1)\n",
    "    return sub_fun()"
   ]
  },
  {
   "cell_type": "code",
   "execution_count": 27,
   "metadata": {},
   "outputs": [
    {
     "name": "stdout",
     "output_type": "stream",
     "text": [
      "we are in sub_func\n",
      "Vaibhav\n",
      "davande\n"
     ]
    }
   ],
   "source": [
    "main_vd('davande')"
   ]
  },
  {
   "cell_type": "code",
   "execution_count": 57,
   "metadata": {},
   "outputs": [
    {
     "name": "stdout",
     "output_type": "stream",
     "text": [
      "we are inside the sub fun\n",
      "4\n"
     ]
    }
   ],
   "source": [
    "#Closure\n",
    "def mainfun(fun):\n",
    "    def infun():\n",
    "        print('we are inside the sub fun')\n",
    "        print(fun([1,2,3,4]))\n",
    "    return infun()\n",
    "a = mainfun(len)"
   ]
  },
  {
   "cell_type": "code",
   "execution_count": 28,
   "metadata": {},
   "outputs": [],
   "source": [
    "# Decorator\n",
    "def main_vd(fun):\n",
    "    def sub_f():\n",
    "        print('test decorator')\n",
    "        fun('we are printing using print function')\n",
    "    return sub_f()"
   ]
  },
  {
   "cell_type": "code",
   "execution_count": 29,
   "metadata": {},
   "outputs": [
    {
     "name": "stdout",
     "output_type": "stream",
     "text": [
      "test decorator\n",
      "we are printing using print function\n"
     ]
    }
   ],
   "source": [
    "main_vd(print)# here we are passing the bult in print fuction into main_vd function"
   ]
  },
  {
   "cell_type": "code",
   "execution_count": 36,
   "metadata": {},
   "outputs": [
    {
     "name": "stdout",
     "output_type": "stream",
     "text": [
      "test decorator\n",
      "this is child fun\n"
     ]
    }
   ],
   "source": [
    "def main_vd(fun):\n",
    "    def sub_f():\n",
    "        print('test decorator')\n",
    "        fun()\n",
    "    return sub_f()\n",
    "def child_fn():\n",
    "    print('this is child fun')\n",
    "a = main_vd(child_fn)"
   ]
  },
  {
   "cell_type": "code",
   "execution_count": 37,
   "metadata": {},
   "outputs": [
    {
     "name": "stdout",
     "output_type": "stream",
     "text": [
      "test decorator\n",
      "this is child fun\n"
     ]
    }
   ],
   "source": [
    "def main_vd(fun):\n",
    "    def sub_f():\n",
    "        print('test decorator')\n",
    "        fun()\n",
    "    return sub_f()\n",
    "@main_vd# @THis is exactly the decorator # this is nothing but simply calling the main_vd(child_fn) passing child_fun as a function inside the calling\n",
    "def child_fn():\n",
    "    print('this is child fun')"
   ]
  },
  {
   "cell_type": "code",
   "execution_count": 58,
   "metadata": {},
   "outputs": [
    {
     "name": "stdout",
     "output_type": "stream",
     "text": [
      "we are inside the sub fun\n",
      "We are in test function\n"
     ]
    }
   ],
   "source": [
    "#Decorator practice\n",
    "def mainfun(fun):\n",
    "    def infun():\n",
    "        print('we are inside the sub fun')\n",
    "        fun()\n",
    "    return infun()\n",
    "@mainfun\n",
    "def test():\n",
    "    print('We are in test function')\n",
    "    \n",
    "        "
   ]
  },
  {
   "cell_type": "code",
   "execution_count": null,
   "metadata": {},
   "outputs": [],
   "source": []
  }
 ],
 "metadata": {
  "kernelspec": {
   "display_name": "Python 3",
   "language": "python",
   "name": "python3"
  },
  "language_info": {
   "codemirror_mode": {
    "name": "ipython",
    "version": 3
   },
   "file_extension": ".py",
   "mimetype": "text/x-python",
   "name": "python",
   "nbconvert_exporter": "python",
   "pygments_lexer": "ipython3",
   "version": "3.7.4"
  }
 },
 "nbformat": 4,
 "nbformat_minor": 2
}
